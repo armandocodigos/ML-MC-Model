{
 "cells": [
  {
   "cell_type": "code",
   "execution_count": 1,
   "id": "dc9dba29-889d-46e6-a879-453bfe685e4c",
   "metadata": {},
   "outputs": [],
   "source": [
    "import loading as ld\n",
    "polybench = ld.load_model('polybenchASTs.sav')"
   ]
  },
  {
   "cell_type": "code",
   "execution_count": 2,
   "id": "e7386309-991c-4081-92bf-71728eb1dfcb",
   "metadata": {},
   "outputs": [],
   "source": [
    "import plotting as pl\n",
    "import convert as co\n",
    "u = pl.unique_ast(polybench, 'correlation')\n",
    "Gu = co.convert_unique(u.body[2:])"
   ]
  },
  {
   "cell_type": "code",
   "execution_count": 3,
   "id": "ce8b4262-c095-4371-8952-3bb95689ac01",
   "metadata": {},
   "outputs": [],
   "source": [
    "#a = 'FuncDef'\n",
    "#find_a = [k for k in Gu.adj.keys() if k.startswith(a)]\n",
    "#find_a"
   ]
  },
  {
   "cell_type": "code",
   "execution_count": 4,
   "id": "837a095c-0a9f-4f5e-bf51-5c7b459afc5b",
   "metadata": {},
   "outputs": [],
   "source": [
    "#b = 'Compound'\n",
    "#results = []\n",
    "#for key in find_a:\n",
    "#    find_b = [k for k in Gu.adj[key].keys() if k.startswith(b)]\n",
    "#    results.extend(find_b)\n",
    "#results"
   ]
  },
  {
   "cell_type": "code",
   "execution_count": 5,
   "id": "90e7e9dd-e1f9-4ea6-8616-1924059121cf",
   "metadata": {},
   "outputs": [],
   "source": [
    "#find_a = results"
   ]
  },
  {
   "cell_type": "code",
   "execution_count": 6,
   "id": "d1f69f19-fe7e-46f8-aae8-019811d38112",
   "metadata": {},
   "outputs": [],
   "source": [
    "#b = ''\n",
    "#results = []\n",
    "#for key in find_a:\n",
    "#    find_b = [k for k in Gu.adj[key].keys() if k.startswith(b)]\n",
    "#    results.extend(find_b)\n",
    "#results"
   ]
  },
  {
   "cell_type": "code",
   "execution_count": 6,
   "id": "0545407b-9804-4062-96d8-d34aacc41eb2",
   "metadata": {},
   "outputs": [
    {
     "data": {
      "text/plain": [
       "0"
      ]
     },
     "execution_count": 6,
     "metadata": {},
     "output_type": "execute_result"
    }
   ],
   "source": [
    "import explore as ex\n",
    "graph_regex = ['FuncDef','','','Decl']\n",
    "ex.count_graph_regex(Gu, graph_regex)"
   ]
  },
  {
   "cell_type": "code",
   "execution_count": 8,
   "id": "923d9504-a2b1-4864-8108-afb1235b9a44",
   "metadata": {},
   "outputs": [
    {
     "data": {
      "text/plain": [
       "3"
      ]
     },
     "execution_count": 8,
     "metadata": {},
     "output_type": "execute_result"
    }
   ],
   "source": [
    "graph_regex = ['For','For']\n",
    "ex.count_graph_regex(Gu, graph_regex)"
   ]
  },
  {
   "cell_type": "code",
   "execution_count": 9,
   "id": "8270ad4a-ce9d-4f51-9137-6a7ca5b84f62",
   "metadata": {},
   "outputs": [
    {
     "data": {
      "text/plain": [
       "4"
      ]
     },
     "execution_count": 9,
     "metadata": {},
     "output_type": "execute_result"
    }
   ],
   "source": [
    "graph_regex = ['For','Compound','For']\n",
    "ex.count_graph_regex(Gu, graph_regex)"
   ]
  },
  {
   "cell_type": "code",
   "execution_count": 10,
   "id": "0da58ccd-5bbd-409f-b081-2404d5c75335",
   "metadata": {},
   "outputs": [],
   "source": [
    "#Gu.adj"
   ]
  },
  {
   "cell_type": "code",
   "execution_count": 7,
   "id": "34435f76-67e3-4f59-9013-8c0a7afa8d08",
   "metadata": {},
   "outputs": [],
   "source": [
    "graph_regex_list = [\n",
    "    ['FuncDef','Decl','FuncDecl','',''],\n",
    "    ['For','For'],\n",
    "    ['For','Compound','For'],\n",
    "    ['UnaryOp','']]"
   ]
  },
  {
   "cell_type": "code",
   "execution_count": 8,
   "id": "ca27649e-9938-47e7-bc3c-33accb0a2eba",
   "metadata": {},
   "outputs": [
    {
     "name": "stdout",
     "output_type": "stream",
     "text": [
      "correlation\n",
      "covariance\n",
      "gemm\n",
      "gemver\n",
      "gesummv\n",
      "symm\n",
      "syr2k\n",
      "syrk\n",
      "trmm\n",
      "2mm\n",
      "3mm\n",
      "atax\n",
      "bicg\n",
      "doitgen\n",
      "mvt\n",
      "cholesky\n",
      "durbin\n",
      "gramschmidt\n",
      "lu\n",
      "ludcmp\n",
      "trisolv\n",
      "deriche\n",
      "floyd-warshall\n",
      "nussinov\n",
      "adi\n",
      "fdtd-2d\n",
      "heat-3d\n",
      "jacobi-1d\n",
      "jacobi-2d\n",
      "seidel-2d\n"
     ]
    }
   ],
   "source": [
    "headers = ['program']\n",
    "headers.extend(['->'.join([e if len(e)>0 else '*' for e in x]) for x in graph_regex_list])\n",
    "\n",
    "ld.clean_graph_regex(headers)\n",
    "for k,v in polybench.items():\n",
    "    print(k)\n",
    "    # obtain graphs in graphviz format (plotting.py)\n",
    "    u = pl.unique_ast(polybench, k)\n",
    "    # convert to easygraph format (convert.py)\n",
    "    Gu = co.convert_unique(u.body[2:])\n",
    "    # calculate graph regexs (explore.py)\n",
    "    # save in CSV files (loading.py)\n",
    "    ld.append_file(k, 'graph_regex', ex.graph_regex(Gu, graph_regex_list))"
   ]
  },
  {
   "cell_type": "code",
   "execution_count": null,
   "id": "975b6117-548a-448f-a0f8-73c125d7624a",
   "metadata": {},
   "outputs": [],
   "source": []
  }
 ],
 "metadata": {
  "kernelspec": {
   "display_name": "Python 3 (ipykernel)",
   "language": "python",
   "name": "python3"
  },
  "language_info": {
   "codemirror_mode": {
    "name": "ipython",
    "version": 3
   },
   "file_extension": ".py",
   "mimetype": "text/x-python",
   "name": "python",
   "nbconvert_exporter": "python",
   "pygments_lexer": "ipython3",
   "version": "3.9.12"
  }
 },
 "nbformat": 4,
 "nbformat_minor": 5
}
