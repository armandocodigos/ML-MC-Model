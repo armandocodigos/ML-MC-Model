{
 "cells": [
  {
   "cell_type": "code",
   "execution_count": 1,
   "id": "c745151e-fd31-4038-a606-491e78ca3389",
   "metadata": {},
   "outputs": [],
   "source": [
    "import re\n",
    "from pycparser import parse_file, c_ast\n",
    "from pycparser.plyparser import Coord"
   ]
  },
  {
   "cell_type": "code",
   "execution_count": 2,
   "id": "302877af-e995-4610-8dca-9ac85f0489b5",
   "metadata": {},
   "outputs": [],
   "source": [
    "RE_CHILD_ARRAY = re.compile(r'(.*)\\[(.*)\\]')\n",
    "RE_INTERNAL_ATTR = re.compile('__.*__')"
   ]
  },
  {
   "cell_type": "code",
   "execution_count": 3,
   "id": "2b34f8f9-1d8d-4005-aa27-21a6bf273181",
   "metadata": {},
   "outputs": [],
   "source": [
    "class CJsonError(Exception):\n",
    "    pass\n",
    "def memodict(fn):\n",
    "    \"\"\" Fast memoization decorator for a function taking a single argument \"\"\"\n",
    "    class memodict(dict):\n",
    "        def __missing__(self, key):\n",
    "            ret = self[key] = fn(key)\n",
    "            return ret\n",
    "    return memodict().__getitem__\n",
    "@memodict\n",
    "def child_attrs_of(klass):\n",
    "    \"\"\"\n",
    "    Given a Node class, get a set of child attrs.\n",
    "    Memoized to avoid highly repetitive string manipulation\n",
    "    \"\"\"\n",
    "    non_child_attrs = set(klass.attr_names)\n",
    "    all_attrs = set([i for i in klass.__slots__ if not RE_INTERNAL_ATTR.match(i)])\n",
    "    return all_attrs - non_child_attrs\n",
    "def to_dict(node):\n",
    "    \"\"\" Recursively convert an ast into dict representation. \"\"\"\n",
    "    klass = node.__class__\n",
    "\n",
    "    result = {}\n",
    "\n",
    "    # Metadata\n",
    "    result['_nodetype'] = klass.__name__\n",
    "\n",
    "    # Local node attributes\n",
    "    for attr in klass.attr_names:\n",
    "        result[attr] = getattr(node, attr)\n",
    "\n",
    "    # Coord object\n",
    "    if node.coord:\n",
    "        result['coord'] = str(node.coord)\n",
    "    else:\n",
    "        result['coord'] = None\n",
    "\n",
    "    # Child attributes\n",
    "    for child_name, child in node.children():\n",
    "        # Child strings are either simple (e.g. 'value') or arrays (e.g. 'block_items[1]')\n",
    "        match = RE_CHILD_ARRAY.match(child_name)\n",
    "        if match:\n",
    "            array_name, array_index = match.groups()\n",
    "            array_index = int(array_index)\n",
    "            # arrays come in order, so we verify and append.\n",
    "            result[array_name] = result.get(array_name, [])\n",
    "            if array_index != len(result[array_name]):\n",
    "                raise CJsonError('Internal ast error. Array {} out of order. '\n",
    "                    'Expected index {}, got {}'.format(\n",
    "                    array_name, len(result[array_name]), array_index))\n",
    "            result[array_name].append(to_dict(child))\n",
    "        else:\n",
    "            result[child_name] = to_dict(child)\n",
    "\n",
    "    # Any child attributes that were missing need \"None\" values in the json.\n",
    "    for child_attr in child_attrs_of(klass):\n",
    "        if child_attr not in result:\n",
    "            result[child_attr] = None\n",
    "\n",
    "    return result\n",
    "def file_to_dict(filename):\n",
    "    \"\"\" Load C file into dict representation of ast \"\"\"\n",
    "    ast = parse_file(filename, use_cpp=False)\n",
    "    return to_dict(ast)"
   ]
  },
  {
   "cell_type": "code",
   "execution_count": 4,
   "id": "202d8fb1-00d4-4595-8144-fdd5e5527d70",
   "metadata": {},
   "outputs": [],
   "source": [
    "ast_dict = file_to_dict(\"test.c\")"
   ]
  },
  {
   "cell_type": "code",
   "execution_count": 5,
   "id": "b717e3d3-2e6d-4f20-8f0f-1fe4fb6f4fcf",
   "metadata": {},
   "outputs": [
    {
     "name": "stdout",
     "output_type": "stream",
     "text": [
      "{'_nodetype': 'FileAST', 'coord': None, 'ext': [{'_nodetype': 'Decl', 'name': 'algo', 'quals': ['const'], 'align': [], 'storage': [], 'funcspec': [], 'coord': 'test.c:1:11', 'type': {'_nodetype': 'TypeDecl', 'declname': 'algo', 'quals': ['const'], 'align': None, 'coord': 'test.c:1:11', 'type': {'_nodetype': 'IdentifierType', 'names': ['int'], 'coord': 'test.c:1:7'}}, 'init': {'_nodetype': 'Constant', 'type': 'int', 'value': '0', 'coord': 'test.c:1:18'}, 'bitsize': None}, {'_nodetype': 'FuncDef', 'coord': 'test.c:2:5', 'decl': {'_nodetype': 'Decl', 'name': 'main', 'quals': [], 'align': [], 'storage': [], 'funcspec': [], 'coord': 'test.c:2:5', 'type': {'_nodetype': 'FuncDecl', 'coord': 'test.c:2:5', 'args': {'_nodetype': 'ParamList', 'coord': 'test.c:2:16', 'params': [{'_nodetype': 'Decl', 'name': 'a', 'quals': [], 'align': [], 'storage': [], 'funcspec': [], 'coord': 'test.c:2:16', 'type': {'_nodetype': 'TypeDecl', 'declname': 'a', 'quals': [], 'align': None, 'coord': 'test.c:2:16', 'type': {'_nodetype': 'IdentifierType', 'names': ['float'], 'coord': 'test.c:2:10'}}, 'bitsize': None, 'init': None}, {'_nodetype': 'Decl', 'name': 'b', 'quals': [], 'align': [], 'storage': [], 'funcspec': [], 'coord': 'test.c:2:23', 'type': {'_nodetype': 'TypeDecl', 'declname': 'b', 'quals': [], 'align': None, 'coord': 'test.c:2:23', 'type': {'_nodetype': 'IdentifierType', 'names': ['char'], 'coord': 'test.c:2:18'}}, 'bitsize': None, 'init': None}]}, 'type': {'_nodetype': 'TypeDecl', 'declname': 'main', 'quals': [], 'align': None, 'coord': 'test.c:2:5', 'type': {'_nodetype': 'IdentifierType', 'names': ['int'], 'coord': 'test.c:2:1'}}}, 'bitsize': None, 'init': None}, 'body': {'_nodetype': 'Compound', 'coord': 'test.c:3:1', 'block_items': [{'_nodetype': 'FuncCall', 'coord': 'test.c:4:5', 'name': {'_nodetype': 'ID', 'name': 'printf', 'coord': 'test.c:4:5'}, 'args': {'_nodetype': 'ExprList', 'coord': 'test.c:4:12', 'exprs': [{'_nodetype': 'Constant', 'type': 'string', 'value': '\"Hello World\"', 'coord': 'test.c:4:12'}]}}, {'_nodetype': 'FuncCall', 'coord': 'test.c:5:5', 'name': {'_nodetype': 'ID', 'name': 'printf', 'coord': 'test.c:5:5'}, 'args': {'_nodetype': 'ExprList', 'coord': 'test.c:5:12', 'exprs': [{'_nodetype': 'Constant', 'type': 'string', 'value': '\"Hello World\"', 'coord': 'test.c:5:12'}]}}, {'_nodetype': 'Return', 'coord': 'test.c:6:5', 'expr': {'_nodetype': 'Constant', 'type': 'int', 'value': '0', 'coord': 'test.c:6:12'}}]}, 'param_decls': None}]}\n"
     ]
    }
   ],
   "source": [
    "print(ast_dict)"
   ]
  },
  {
   "cell_type": "code",
   "execution_count": 6,
   "id": "48069d2e-2fc5-4da0-8c7a-a021296494c0",
   "metadata": {},
   "outputs": [
    {
     "name": "stdout",
     "output_type": "stream",
     "text": [
      "{'_nodetype': 'Decl', 'name': 'algo', 'quals': ['const'], 'align': [], 'storage': [], 'funcspec': [], 'coord': 'test.c:1:11', 'type': {'_nodetype': 'TypeDecl', 'declname': 'algo', 'quals': ['const'], 'align': None, 'coord': 'test.c:1:11', 'type': {'_nodetype': 'IdentifierType', 'names': ['int'], 'coord': 'test.c:1:7'}}, 'init': {'_nodetype': 'Constant', 'type': 'int', 'value': '0', 'coord': 'test.c:1:18'}, 'bitsize': None} \n",
      "\n",
      "{'_nodetype': 'FuncDef', 'coord': 'test.c:2:5', 'decl': {'_nodetype': 'Decl', 'name': 'main', 'quals': [], 'align': [], 'storage': [], 'funcspec': [], 'coord': 'test.c:2:5', 'type': {'_nodetype': 'FuncDecl', 'coord': 'test.c:2:5', 'args': {'_nodetype': 'ParamList', 'coord': 'test.c:2:16', 'params': [{'_nodetype': 'Decl', 'name': 'a', 'quals': [], 'align': [], 'storage': [], 'funcspec': [], 'coord': 'test.c:2:16', 'type': {'_nodetype': 'TypeDecl', 'declname': 'a', 'quals': [], 'align': None, 'coord': 'test.c:2:16', 'type': {'_nodetype': 'IdentifierType', 'names': ['float'], 'coord': 'test.c:2:10'}}, 'bitsize': None, 'init': None}, {'_nodetype': 'Decl', 'name': 'b', 'quals': [], 'align': [], 'storage': [], 'funcspec': [], 'coord': 'test.c:2:23', 'type': {'_nodetype': 'TypeDecl', 'declname': 'b', 'quals': [], 'align': None, 'coord': 'test.c:2:23', 'type': {'_nodetype': 'IdentifierType', 'names': ['char'], 'coord': 'test.c:2:18'}}, 'bitsize': None, 'init': None}]}, 'type': {'_nodetype': 'TypeDecl', 'declname': 'main', 'quals': [], 'align': None, 'coord': 'test.c:2:5', 'type': {'_nodetype': 'IdentifierType', 'names': ['int'], 'coord': 'test.c:2:1'}}}, 'bitsize': None, 'init': None}, 'body': {'_nodetype': 'Compound', 'coord': 'test.c:3:1', 'block_items': [{'_nodetype': 'FuncCall', 'coord': 'test.c:4:5', 'name': {'_nodetype': 'ID', 'name': 'printf', 'coord': 'test.c:4:5'}, 'args': {'_nodetype': 'ExprList', 'coord': 'test.c:4:12', 'exprs': [{'_nodetype': 'Constant', 'type': 'string', 'value': '\"Hello World\"', 'coord': 'test.c:4:12'}]}}, {'_nodetype': 'FuncCall', 'coord': 'test.c:5:5', 'name': {'_nodetype': 'ID', 'name': 'printf', 'coord': 'test.c:5:5'}, 'args': {'_nodetype': 'ExprList', 'coord': 'test.c:5:12', 'exprs': [{'_nodetype': 'Constant', 'type': 'string', 'value': '\"Hello World\"', 'coord': 'test.c:5:12'}]}}, {'_nodetype': 'Return', 'coord': 'test.c:6:5', 'expr': {'_nodetype': 'Constant', 'type': 'int', 'value': '0', 'coord': 'test.c:6:12'}}]}, 'param_decls': None} \n",
      "\n"
     ]
    }
   ],
   "source": [
    "for e in ast_dict['ext']:\n",
    "    print(e,'\\n')"
   ]
  },
  {
   "cell_type": "code",
   "execution_count": null,
   "id": "e3ee58a7-18b7-4737-be96-c01ae214670b",
   "metadata": {},
   "outputs": [],
   "source": []
  }
 ],
 "metadata": {
  "kernelspec": {
   "display_name": "Python 3 (ipykernel)",
   "language": "python",
   "name": "python3"
  },
  "language_info": {
   "codemirror_mode": {
    "name": "ipython",
    "version": 3
   },
   "file_extension": ".py",
   "mimetype": "text/x-python",
   "name": "python",
   "nbconvert_exporter": "python",
   "pygments_lexer": "ipython3",
   "version": "3.9.15"
  }
 },
 "nbformat": 4,
 "nbformat_minor": 5
}
