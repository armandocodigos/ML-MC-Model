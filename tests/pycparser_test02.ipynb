{
 "cells": [
  {
   "cell_type": "code",
   "execution_count": 57,
   "id": "20aae7c4-89e5-4dcf-b682-b4a6f49524e1",
   "metadata": {},
   "outputs": [],
   "source": [
    "from pycparser import c_parser"
   ]
  },
  {
   "cell_type": "code",
   "execution_count": 58,
   "id": "bca42098-772f-43dd-9fc0-1e9b119187f2",
   "metadata": {},
   "outputs": [],
   "source": [
    "text = r\"\"\"const int algo = 0;\n",
    "int main(float a,char b)\n",
    "{\n",
    "    printf(\"Hello World\");\n",
    "    printf(\"Hello World\");\n",
    "    return 0;\n",
    "}\n",
    "\"\"\""
   ]
  },
  {
   "cell_type": "code",
   "execution_count": 59,
   "id": "6c717de3-8155-4753-9023-e24a69bf2067",
   "metadata": {},
   "outputs": [],
   "source": [
    "parser = c_parser.CParser()\n",
    "ast = parser.parse(text, filename='<none>')"
   ]
  },
  {
   "cell_type": "code",
   "execution_count": 60,
   "id": "22d972f0-0aa6-4558-9f2d-ef82dee4fbc7",
   "metadata": {},
   "outputs": [
    {
     "name": "stdout",
     "output_type": "stream",
     "text": [
      "FileAST: \n",
      "  Decl: algo, ['const'], [], [], []\n",
      "    TypeDecl: algo, ['const'], None\n",
      "      IdentifierType: ['int']\n",
      "    Constant: int, 0\n",
      "  FuncDef: \n",
      "    Decl: main, [], [], [], []\n",
      "      FuncDecl: \n",
      "        ParamList: \n",
      "          Decl: a, [], [], [], []\n",
      "            TypeDecl: a, [], None\n",
      "              IdentifierType: ['float']\n",
      "          Decl: b, [], [], [], []\n",
      "            TypeDecl: b, [], None\n",
      "              IdentifierType: ['char']\n",
      "        TypeDecl: main, [], None\n",
      "          IdentifierType: ['int']\n",
      "    Compound: \n",
      "      FuncCall: \n",
      "        ID: printf\n",
      "        ExprList: \n",
      "          Constant: string, \"Hello World\"\n",
      "      FuncCall: \n",
      "        ID: printf\n",
      "        ExprList: \n",
      "          Constant: string, \"Hello World\"\n",
      "      Return: \n",
      "        Constant: int, 0\n"
     ]
    }
   ],
   "source": [
    "ast.show()"
   ]
  },
  {
   "cell_type": "code",
   "execution_count": 33,
   "id": "3aa91023-3aac-44a8-bead-cf13a1838915",
   "metadata": {},
   "outputs": [
    {
     "name": "stdout",
     "output_type": "stream",
     "text": [
      "3\n"
     ]
    }
   ],
   "source": [
    "print(len(ast.ext))"
   ]
  },
  {
   "cell_type": "code",
   "execution_count": 56,
   "id": "3886c6bc-b56f-491e-b378-12048fa4b851",
   "metadata": {},
   "outputs": [
    {
     "name": "stdout",
     "output_type": "stream",
     "text": [
      "Compound: \n",
      "  FuncCall: \n",
      "    ID: printf\n",
      "    ExprList: \n",
      "      Constant: string, \"Hello World\"\n",
      "  FuncCall: \n",
      "    ID: printf\n",
      "    ExprList: \n",
      "      Constant: string, \"Hello World\"\n",
      "  Return: \n",
      "    Constant: int, 0\n"
     ]
    }
   ],
   "source": [
    "ast.ext[1].body.show()"
   ]
  },
  {
   "cell_type": "code",
   "execution_count": null,
   "id": "0306fa68-2615-4498-84d8-5b429d6deb77",
   "metadata": {},
   "outputs": [],
   "source": []
  }
 ],
 "metadata": {
  "kernelspec": {
   "display_name": "Python 3 (ipykernel)",
   "language": "python",
   "name": "python3"
  },
  "language_info": {
   "codemirror_mode": {
    "name": "ipython",
    "version": 3
   },
   "file_extension": ".py",
   "mimetype": "text/x-python",
   "name": "python",
   "nbconvert_exporter": "python",
   "pygments_lexer": "ipython3",
   "version": "3.9.15"
  }
 },
 "nbformat": 4,
 "nbformat_minor": 5
}
