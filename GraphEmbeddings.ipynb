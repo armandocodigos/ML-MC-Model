{
 "cells": [
  {
   "cell_type": "code",
   "execution_count": 1,
   "id": "88b5ff82-310c-4d7a-a8c8-33c321ffc0cc",
   "metadata": {},
   "outputs": [],
   "source": [
    "import loading as ld\n",
    "polybench = ld.load_model('polybenchASTs.sav')"
   ]
  },
  {
   "cell_type": "code",
   "execution_count": 2,
   "id": "934044a7-9e9a-4b55-a58f-41a0d6e8ba02",
   "metadata": {},
   "outputs": [],
   "source": [
    "import plotting as pl\n",
    "import convert as co\n",
    "import explore as ex"
   ]
  },
  {
   "cell_type": "code",
   "execution_count": 4,
   "id": "1791835f-e6cb-44df-a9c9-0907e00049b4",
   "metadata": {},
   "outputs": [
    {
     "name": "stdout",
     "output_type": "stream",
     "text": [
      "correlation\n",
      "Walk iteration:\n"
     ]
    },
    {
     "name": "stderr",
     "output_type": "stream",
     "text": [
      "100%|██████████| 10/10 [00:00<00:00, 1671.30it/s]\n"
     ]
    },
    {
     "name": "stdout",
     "output_type": "stream",
     "text": [
      "Walk iteration:\n"
     ]
    },
    {
     "name": "stderr",
     "output_type": "stream",
     "text": [
      "100%|██████████| 10/10 [00:00<00:00, 10041.43it/s]\n",
      "100%|██████████| 10/10 [00:00<00:00, 911.47it/s]\n",
      "100%|██████████| 10/10 [00:00<00:00, 10029.42it/s]\n",
      "100%|██████████| 10/10 [00:00<00:00, 911.59it/s]\n",
      "100%|██████████| 10/10 [00:00<00:00, 5013.51it/s]\n",
      "100%|██████████| 10/10 [00:00<00:00, 835.55it/s]\n",
      "100%|██████████| 10/10 [00:00<00:00, 10024.63it/s]\n"
     ]
    },
    {
     "name": "stdout",
     "output_type": "stream",
     "text": [
      "covariance\n",
      "Walk iteration:\n"
     ]
    },
    {
     "name": "stderr",
     "output_type": "stream",
     "text": [
      "100%|██████████| 10/10 [00:00<00:00, 2506.91it/s]\n"
     ]
    },
    {
     "name": "stdout",
     "output_type": "stream",
     "text": [
      "Walk iteration:\n"
     ]
    },
    {
     "name": "stderr",
     "output_type": "stream",
     "text": [
      "100%|██████████| 10/10 [00:00<00:00, 10022.23it/s]\n",
      "100%|██████████| 10/10 [00:00<00:00, 1253.30it/s]\n",
      "100%|██████████| 10/10 [00:00<00:00, 5012.91it/s]\n",
      "100%|██████████| 10/10 [00:00<00:00, 1114.05it/s]\n",
      "100%|██████████| 10/10 [00:00<00:00, 10029.42it/s]\n",
      "100%|██████████| 10/10 [00:00<00:00, 1432.38it/s]\n",
      "100%|██████████| 10/10 [00:00<00:00, 5014.71it/s]\n"
     ]
    },
    {
     "name": "stdout",
     "output_type": "stream",
     "text": [
      "gemm\n",
      "Walk iteration:\n"
     ]
    },
    {
     "name": "stderr",
     "output_type": "stream",
     "text": [
      "100%|██████████| 10/10 [00:00<00:00, 2005.69it/s]\n"
     ]
    },
    {
     "name": "stdout",
     "output_type": "stream",
     "text": [
      "Walk iteration:\n"
     ]
    },
    {
     "name": "stderr",
     "output_type": "stream",
     "text": [
      "100%|██████████| 10/10 [00:00<00:00, 10027.02it/s]\n",
      "100%|██████████| 10/10 [00:00<00:00, 1178.51it/s]\n",
      "100%|██████████| 10/10 [00:00<00:00, 10031.82it/s]\n",
      "100%|██████████| 10/10 [00:00<00:00, 1253.34it/s]\n",
      "100%|██████████| 10/10 [00:00<00:00, 10027.02it/s]\n",
      "100%|██████████| 10/10 [00:00<00:00, 1114.05it/s]\n",
      "100%|██████████| 10/10 [00:00<00:00, 10031.82it/s]\n"
     ]
    },
    {
     "name": "stdout",
     "output_type": "stream",
     "text": [
      "gemver\n",
      "Walk iteration:\n"
     ]
    },
    {
     "name": "stderr",
     "output_type": "stream",
     "text": [
      "100%|██████████| 10/10 [00:00<00:00, 2005.40it/s]\n"
     ]
    },
    {
     "name": "stdout",
     "output_type": "stream",
     "text": [
      "Walk iteration:\n"
     ]
    },
    {
     "name": "stderr",
     "output_type": "stream",
     "text": [
      "100%|██████████| 10/10 [00:00<00:00, 10036.62it/s]\n",
      "100%|██████████| 10/10 [00:00<00:00, 911.47it/s]\n",
      "100%|██████████| 10/10 [00:00<00:00, 5013.51it/s]\n",
      "100%|██████████| 10/10 [00:00<00:00, 1002.58it/s]\n",
      "100%|██████████| 10/10 [00:00<00:00, 5013.51it/s]\n",
      "100%|██████████| 10/10 [00:00<00:00, 1002.68it/s]\n",
      "100%|██████████| 10/10 [00:00<00:00, 10027.02it/s]\n"
     ]
    },
    {
     "name": "stdout",
     "output_type": "stream",
     "text": [
      "gesummv\n",
      "Walk iteration:\n"
     ]
    },
    {
     "name": "stderr",
     "output_type": "stream",
     "text": [
      "100%|██████████| 10/10 [00:00<00:00, 179.04it/s]\n"
     ]
    },
    {
     "name": "stdout",
     "output_type": "stream",
     "text": [
      "Walk iteration:\n"
     ]
    },
    {
     "name": "stderr",
     "output_type": "stream",
     "text": [
      "100%|██████████| 10/10 [00:00<00:00, 10019.84it/s]\n",
      "100%|██████████| 10/10 [00:00<00:00, 1253.34it/s]\n",
      "100%|██████████| 10/10 [00:00<00:00, 10022.23it/s]\n",
      "100%|██████████| 10/10 [00:00<00:00, 1253.42it/s]\n",
      "100%|██████████| 10/10 [00:00<00:00, 5016.51it/s]\n",
      "100%|██████████| 10/10 [00:00<00:00, 1253.30it/s]\n",
      "100%|██████████| 10/10 [00:00<00:00, 10031.82it/s]\n"
     ]
    },
    {
     "name": "stdout",
     "output_type": "stream",
     "text": [
      "symm\n",
      "Walk iteration:\n"
     ]
    },
    {
     "name": "stderr",
     "output_type": "stream",
     "text": [
      "100%|██████████| 10/10 [00:00<00:00, 2507.21it/s]\n"
     ]
    },
    {
     "name": "stdout",
     "output_type": "stream",
     "text": [
      "Walk iteration:\n"
     ]
    },
    {
     "name": "stderr",
     "output_type": "stream",
     "text": [
      "100%|██████████| 10/10 [00:00<00:00, 10022.23it/s]\n",
      "100%|██████████| 10/10 [00:00<00:00, 911.31it/s]\n",
      "100%|██████████| 10/10 [00:00<00:00, 10024.63it/s]\n",
      "100%|██████████| 10/10 [00:00<00:00, 1002.73it/s]\n",
      "100%|██████████| 10/10 [00:00<00:00, 10027.02it/s]\n",
      "100%|██████████| 10/10 [00:00<00:00, 1002.73it/s]\n",
      "100%|██████████| 10/10 [00:00<00:00, 5014.71it/s]\n"
     ]
    },
    {
     "name": "stdout",
     "output_type": "stream",
     "text": [
      "syr2k\n",
      "Walk iteration:\n"
     ]
    },
    {
     "name": "stderr",
     "output_type": "stream",
     "text": [
      "100%|██████████| 10/10 [00:00<00:00, 2507.06it/s]\n"
     ]
    },
    {
     "name": "stdout",
     "output_type": "stream",
     "text": [
      "Walk iteration:\n"
     ]
    },
    {
     "name": "stderr",
     "output_type": "stream",
     "text": [
      "100%|██████████| 10/10 [00:00<?, ?it/s]\n",
      "100%|██████████| 10/10 [00:00<00:00, 1114.17it/s]\n",
      "100%|██████████| 10/10 [00:00<00:00, 10024.63it/s]\n",
      "100%|██████████| 10/10 [00:00<00:00, 1114.05it/s]\n",
      "100%|██████████| 10/10 [00:00<00:00, 5014.11it/s]\n",
      "100%|██████████| 10/10 [00:00<00:00, 1114.11it/s]\n",
      "100%|██████████| 10/10 [00:00<00:00, 5014.11it/s]\n"
     ]
    },
    {
     "name": "stdout",
     "output_type": "stream",
     "text": [
      "syrk\n",
      "Walk iteration:\n"
     ]
    },
    {
     "name": "stderr",
     "output_type": "stream",
     "text": [
      "100%|██████████| 10/10 [00:00<00:00, 2506.61it/s]\n"
     ]
    },
    {
     "name": "stdout",
     "output_type": "stream",
     "text": [
      "Walk iteration:\n"
     ]
    },
    {
     "name": "stderr",
     "output_type": "stream",
     "text": [
      "100%|██████████| 10/10 [00:00<00:00, 10022.23it/s]\n",
      "100%|██████████| 10/10 [00:00<00:00, 1253.34it/s]\n",
      "100%|██████████| 10/10 [00:00<00:00, 10029.42it/s]\n",
      "100%|██████████| 10/10 [00:00<00:00, 1253.00it/s]\n",
      "100%|██████████| 10/10 [00:00<00:00, 5010.52it/s]\n",
      "100%|██████████| 10/10 [00:00<00:00, 1253.15it/s]\n",
      "100%|██████████| 10/10 [00:00<00:00, 10029.42it/s]\n"
     ]
    },
    {
     "name": "stdout",
     "output_type": "stream",
     "text": [
      "trmm\n",
      "Walk iteration:\n"
     ]
    },
    {
     "name": "stderr",
     "output_type": "stream",
     "text": [
      "100%|██████████| 10/10 [00:00<00:00, 2506.76it/s]\n"
     ]
    },
    {
     "name": "stdout",
     "output_type": "stream",
     "text": [
      "Walk iteration:\n"
     ]
    },
    {
     "name": "stderr",
     "output_type": "stream",
     "text": [
      "100%|██████████| 10/10 [00:00<?, ?it/s]\n",
      "100%|██████████| 10/10 [00:00<00:00, 1253.42it/s]\n",
      "100%|██████████| 10/10 [00:00<00:00, 10031.82it/s]\n",
      "100%|██████████| 10/10 [00:00<00:00, 1253.49it/s]\n",
      "100%|██████████| 10/10 [00:00<00:00, 5014.11it/s]\n",
      "100%|██████████| 10/10 [00:00<00:00, 1253.45it/s]\n",
      "100%|██████████| 10/10 [00:00<00:00, 10024.63it/s]\n"
     ]
    },
    {
     "name": "stdout",
     "output_type": "stream",
     "text": [
      "2mm\n",
      "Walk iteration:\n"
     ]
    },
    {
     "name": "stderr",
     "output_type": "stream",
     "text": [
      "100%|██████████| 10/10 [00:00<00:00, 2005.69it/s]\n"
     ]
    },
    {
     "name": "stdout",
     "output_type": "stream",
     "text": [
      "Walk iteration:\n"
     ]
    },
    {
     "name": "stderr",
     "output_type": "stream",
     "text": [
      "100%|██████████| 10/10 [00:00<?, ?it/s]\n",
      "100%|██████████| 10/10 [00:00<00:00, 911.55it/s]\n",
      "100%|██████████| 10/10 [00:00<00:00, 10024.63it/s]\n",
      "100%|██████████| 10/10 [00:00<00:00, 1002.65it/s]\n",
      "100%|██████████| 10/10 [00:00<00:00, 5010.52it/s]\n",
      "100%|██████████| 10/10 [00:00<00:00, 911.53it/s]\n",
      "100%|██████████| 10/10 [00:00<00:00, 5014.11it/s]\n"
     ]
    },
    {
     "name": "stdout",
     "output_type": "stream",
     "text": [
      "3mm\n",
      "Walk iteration:\n"
     ]
    },
    {
     "name": "stderr",
     "output_type": "stream",
     "text": [
      "100%|██████████| 10/10 [00:00<00:00, 1671.10it/s]\n"
     ]
    },
    {
     "name": "stdout",
     "output_type": "stream",
     "text": [
      "Walk iteration:\n"
     ]
    },
    {
     "name": "stderr",
     "output_type": "stream",
     "text": [
      "100%|██████████| 10/10 [00:00<00:00, 10024.63it/s]\n",
      "100%|██████████| 10/10 [00:00<00:00, 911.49it/s]\n",
      "100%|██████████| 10/10 [00:00<00:00, 10029.42it/s]\n",
      "100%|██████████| 10/10 [00:00<00:00, 911.51it/s]\n",
      "100%|██████████| 10/10 [00:00<00:00, 5013.51it/s]\n",
      "100%|██████████| 10/10 [00:00<00:00, 835.65it/s]\n",
      "100%|██████████| 10/10 [00:00<00:00, 5012.91it/s]\n"
     ]
    },
    {
     "name": "stdout",
     "output_type": "stream",
     "text": [
      "atax\n",
      "Walk iteration:\n"
     ]
    },
    {
     "name": "stderr",
     "output_type": "stream",
     "text": [
      "100%|██████████| 10/10 [00:00<00:00, 3343.14it/s]\n"
     ]
    },
    {
     "name": "stdout",
     "output_type": "stream",
     "text": [
      "Walk iteration:\n"
     ]
    },
    {
     "name": "stderr",
     "output_type": "stream",
     "text": [
      "100%|██████████| 10/10 [00:00<?, ?it/s]\n",
      "100%|██████████| 10/10 [00:00<00:00, 1670.97it/s]\n",
      "100%|██████████| 10/10 [00:00<00:00, 10017.44it/s]\n",
      "100%|██████████| 10/10 [00:00<00:00, 1671.17it/s]\n",
      "100%|██████████| 10/10 [00:00<00:00, 10027.02it/s]\n",
      "100%|██████████| 10/10 [00:00<00:00, 1432.38it/s]\n",
      "100%|██████████| 10/10 [00:00<00:00, 10019.84it/s]\n"
     ]
    },
    {
     "name": "stdout",
     "output_type": "stream",
     "text": [
      "bicg\n",
      "Walk iteration:\n"
     ]
    },
    {
     "name": "stderr",
     "output_type": "stream",
     "text": [
      "100%|██████████| 10/10 [00:00<00:00, 2506.61it/s]\n"
     ]
    },
    {
     "name": "stdout",
     "output_type": "stream",
     "text": [
      "Walk iteration:\n"
     ]
    },
    {
     "name": "stderr",
     "output_type": "stream",
     "text": [
      "100%|██████████| 10/10 [00:00<00:00, 10036.62it/s]\n",
      "100%|██████████| 10/10 [00:00<00:00, 1002.61it/s]\n",
      "100%|██████████| 10/10 [00:00<00:00, 10019.84it/s]\n",
      "100%|██████████| 10/10 [00:00<00:00, 1432.24it/s]\n",
      "100%|██████████| 10/10 [00:00<00:00, 10024.63it/s]\n",
      "100%|██████████| 10/10 [00:00<00:00, 1248.86it/s]\n",
      "100%|██████████| 10/10 [00:00<00:00, 5012.91it/s]\n"
     ]
    },
    {
     "name": "stdout",
     "output_type": "stream",
     "text": [
      "doitgen\n",
      "Walk iteration:\n"
     ]
    },
    {
     "name": "stderr",
     "output_type": "stream",
     "text": [
      "100%|██████████| 10/10 [00:00<00:00, 2505.11it/s]\n"
     ]
    },
    {
     "name": "stdout",
     "output_type": "stream",
     "text": [
      "Walk iteration:\n"
     ]
    },
    {
     "name": "stderr",
     "output_type": "stream",
     "text": [
      "100%|██████████| 10/10 [00:00<00:00, 10024.63it/s]\n",
      "100%|██████████| 10/10 [00:00<00:00, 1253.38it/s]\n",
      "100%|██████████| 10/10 [00:00<00:00, 10036.62it/s]\n",
      "100%|██████████| 10/10 [00:00<00:00, 1253.27it/s]\n",
      "100%|██████████| 10/10 [00:00<00:00, 5013.51it/s]\n",
      "100%|██████████| 10/10 [00:00<00:00, 1253.38it/s]\n",
      "100%|██████████| 10/10 [00:00<00:00, 10027.02it/s]\n"
     ]
    },
    {
     "name": "stdout",
     "output_type": "stream",
     "text": [
      "mvt\n",
      "Walk iteration:\n"
     ]
    },
    {
     "name": "stderr",
     "output_type": "stream",
     "text": [
      "100%|██████████| 10/10 [00:00<00:00, 2506.76it/s]\n"
     ]
    },
    {
     "name": "stdout",
     "output_type": "stream",
     "text": [
      "Walk iteration:\n"
     ]
    },
    {
     "name": "stderr",
     "output_type": "stream",
     "text": [
      "100%|██████████| 10/10 [00:00<00:00, 10024.63it/s]\n",
      "100%|██████████| 10/10 [00:00<00:00, 1253.27it/s]\n",
      "100%|██████████| 10/10 [00:00<00:00, 5013.51it/s]\n",
      "100%|██████████| 10/10 [00:00<00:00, 1114.05it/s]\n",
      "100%|██████████| 10/10 [00:00<00:00, 10017.44it/s]\n",
      "100%|██████████| 10/10 [00:00<00:00, 1114.02it/s]\n",
      "100%|██████████| 10/10 [00:00<00:00, 10027.02it/s]\n"
     ]
    },
    {
     "name": "stdout",
     "output_type": "stream",
     "text": [
      "cholesky\n",
      "Walk iteration:\n"
     ]
    },
    {
     "name": "stderr",
     "output_type": "stream",
     "text": [
      "100%|██████████| 10/10 [00:00<00:00, 1670.97it/s]\n"
     ]
    },
    {
     "name": "stdout",
     "output_type": "stream",
     "text": [
      "Walk iteration:\n"
     ]
    },
    {
     "name": "stderr",
     "output_type": "stream",
     "text": [
      "100%|██████████| 10/10 [00:00<?, ?it/s]\n",
      "100%|██████████| 10/10 [00:00<00:00, 911.57it/s]\n",
      "100%|██████████| 10/10 [00:00<00:00, 5014.71it/s]\n",
      "100%|██████████| 10/10 [00:00<00:00, 911.61it/s]\n",
      "100%|██████████| 10/10 [00:00<00:00, 5013.51it/s]\n",
      "100%|██████████| 10/10 [00:00<00:00, 911.51it/s]\n",
      "100%|██████████| 10/10 [00:00<00:00, 10022.23it/s]\n"
     ]
    },
    {
     "name": "stdout",
     "output_type": "stream",
     "text": [
      "durbin\n",
      "Walk iteration:\n"
     ]
    },
    {
     "name": "stderr",
     "output_type": "stream",
     "text": [
      "100%|██████████| 10/10 [00:00<00:00, 2506.91it/s]\n"
     ]
    },
    {
     "name": "stdout",
     "output_type": "stream",
     "text": [
      "Walk iteration:\n"
     ]
    },
    {
     "name": "stderr",
     "output_type": "stream",
     "text": [
      "100%|██████████| 10/10 [00:00<00:00, 10019.84it/s]\n",
      "100%|██████████| 10/10 [00:00<00:00, 1426.49it/s]\n",
      "100%|██████████| 10/10 [00:00<00:00, 5012.91it/s]\n",
      "100%|██████████| 10/10 [00:00<00:00, 1432.68it/s]\n",
      "100%|██████████| 10/10 [00:00<00:00, 10031.82it/s]\n",
      "100%|██████████| 10/10 [00:00<00:00, 1253.23it/s]\n",
      "100%|██████████| 10/10 [00:00<00:00, 5013.51it/s]\n"
     ]
    },
    {
     "name": "stdout",
     "output_type": "stream",
     "text": [
      "gramschmidt\n",
      "Walk iteration:\n"
     ]
    },
    {
     "name": "stderr",
     "output_type": "stream",
     "text": [
      "100%|██████████| 10/10 [00:00<00:00, 1671.17it/s]\n"
     ]
    },
    {
     "name": "stdout",
     "output_type": "stream",
     "text": [
      "Walk iteration:\n"
     ]
    },
    {
     "name": "stderr",
     "output_type": "stream",
     "text": [
      "100%|██████████| 10/10 [00:00<00:00, 10029.42it/s]\n",
      "100%|██████████| 10/10 [00:00<00:00, 1002.65it/s]\n",
      "100%|██████████| 10/10 [00:00<00:00, 5014.71it/s]\n",
      "100%|██████████| 10/10 [00:00<00:00, 911.57it/s]\n",
      "100%|██████████| 10/10 [00:00<00:00, 5015.31it/s]\n",
      "100%|██████████| 10/10 [00:00<00:00, 835.62it/s]\n",
      "100%|██████████| 10/10 [00:00<00:00, 5013.51it/s]\n"
     ]
    },
    {
     "name": "stdout",
     "output_type": "stream",
     "text": [
      "lu\n",
      "Walk iteration:\n"
     ]
    },
    {
     "name": "stderr",
     "output_type": "stream",
     "text": [
      "100%|██████████| 10/10 [00:00<00:00, 2005.98it/s]\n"
     ]
    },
    {
     "name": "stdout",
     "output_type": "stream",
     "text": [
      "Walk iteration:\n"
     ]
    },
    {
     "name": "stderr",
     "output_type": "stream",
     "text": [
      "100%|██████████| 10/10 [00:00<?, ?it/s]\n",
      "100%|██████████| 10/10 [00:00<00:00, 911.55it/s]\n",
      "100%|██████████| 10/10 [00:00<00:00, 5014.71it/s]\n",
      "100%|██████████| 10/10 [00:00<00:00, 911.55it/s]\n",
      "100%|██████████| 10/10 [00:00<00:00, 5011.12it/s]\n",
      "100%|██████████| 10/10 [00:00<00:00, 911.53it/s]\n",
      "100%|██████████| 10/10 [00:00<00:00, 5014.71it/s]\n"
     ]
    },
    {
     "name": "stdout",
     "output_type": "stream",
     "text": [
      "ludcmp\n",
      "Walk iteration:\n"
     ]
    },
    {
     "name": "stderr",
     "output_type": "stream",
     "text": [
      "100%|██████████| 10/10 [00:00<00:00, 1432.29it/s]\n"
     ]
    },
    {
     "name": "stdout",
     "output_type": "stream",
     "text": [
      "Walk iteration:\n"
     ]
    },
    {
     "name": "stderr",
     "output_type": "stream",
     "text": [
      "100%|██████████| 10/10 [00:00<00:00, 10029.42it/s]\n",
      "100%|██████████| 10/10 [00:00<00:00, 716.20it/s]\n",
      "100%|██████████| 10/10 [00:00<00:00, 10027.02it/s]\n",
      "100%|██████████| 10/10 [00:00<00:00, 716.26it/s]\n",
      "100%|██████████| 10/10 [00:00<00:00, 10029.42it/s]\n",
      "100%|██████████| 10/10 [00:00<00:00, 714.67it/s]\n",
      "100%|██████████| 10/10 [00:00<00:00, 5014.11it/s]\n"
     ]
    },
    {
     "name": "stdout",
     "output_type": "stream",
     "text": [
      "trisolv\n",
      "Walk iteration:\n"
     ]
    },
    {
     "name": "stderr",
     "output_type": "stream",
     "text": [
      "100%|██████████| 10/10 [00:00<00:00, 3342.61it/s]\n"
     ]
    },
    {
     "name": "stdout",
     "output_type": "stream",
     "text": [
      "Walk iteration:\n"
     ]
    },
    {
     "name": "stderr",
     "output_type": "stream",
     "text": [
      "100%|██████████| 10/10 [00:00<?, ?it/s]\n",
      "100%|██████████| 10/10 [00:00<00:00, 169.94it/s]\n",
      "100%|██████████| 10/10 [00:00<00:00, 10022.23it/s]\n",
      "100%|██████████| 10/10 [00:00<00:00, 1671.10it/s]\n",
      "100%|██████████| 10/10 [00:00<00:00, 5014.71it/s]\n",
      "100%|██████████| 10/10 [00:00<00:00, 1993.49it/s]\n",
      "100%|██████████| 10/10 [00:00<00:00, 5012.31it/s]\n"
     ]
    },
    {
     "name": "stdout",
     "output_type": "stream",
     "text": [
      "deriche\n",
      "Walk iteration:\n"
     ]
    },
    {
     "name": "stderr",
     "output_type": "stream",
     "text": [
      "100%|██████████| 10/10 [00:00<00:00, 909.16it/s]\n"
     ]
    },
    {
     "name": "stdout",
     "output_type": "stream",
     "text": [
      "Walk iteration:\n"
     ]
    },
    {
     "name": "stderr",
     "output_type": "stream",
     "text": [
      "100%|██████████| 10/10 [00:00<00:00, 10015.05it/s]\n",
      "100%|██████████| 10/10 [00:00<00:00, 476.78it/s]\n",
      "100%|██████████| 10/10 [00:00<00:00, 10027.02it/s]\n",
      "100%|██████████| 10/10 [00:00<00:00, 476.83it/s]\n",
      "100%|██████████| 10/10 [00:00<00:00, 10029.42it/s]\n",
      "100%|██████████| 10/10 [00:00<00:00, 455.76it/s]\n",
      "100%|██████████| 10/10 [00:00<00:00, 5015.91it/s]\n"
     ]
    },
    {
     "name": "stdout",
     "output_type": "stream",
     "text": [
      "floyd-warshall\n",
      "Walk iteration:\n"
     ]
    },
    {
     "name": "stderr",
     "output_type": "stream",
     "text": [
      "100%|██████████| 10/10 [00:00<00:00, 2506.61it/s]\n"
     ]
    },
    {
     "name": "stdout",
     "output_type": "stream",
     "text": [
      "Walk iteration:\n"
     ]
    },
    {
     "name": "stderr",
     "output_type": "stream",
     "text": [
      "100%|██████████| 10/10 [00:00<00:00, 10024.63it/s]\n",
      "100%|██████████| 10/10 [00:00<00:00, 1253.19it/s]\n",
      "100%|██████████| 10/10 [00:00<00:00, 10022.23it/s]\n",
      "100%|██████████| 10/10 [00:00<00:00, 1432.53it/s]\n",
      "100%|██████████| 10/10 [00:00<00:00, 5012.91it/s]\n",
      "100%|██████████| 10/10 [00:00<00:00, 1253.19it/s]\n",
      "100%|██████████| 10/10 [00:00<00:00, 5015.91it/s]\n"
     ]
    },
    {
     "name": "stdout",
     "output_type": "stream",
     "text": [
      "nussinov\n",
      "Walk iteration:\n"
     ]
    },
    {
     "name": "stderr",
     "output_type": "stream",
     "text": [
      "100%|██████████| 10/10 [00:00<00:00, 1670.84it/s]\n"
     ]
    },
    {
     "name": "stdout",
     "output_type": "stream",
     "text": [
      "Walk iteration:\n"
     ]
    },
    {
     "name": "stderr",
     "output_type": "stream",
     "text": [
      "100%|██████████| 10/10 [00:00<00:00, 10034.22it/s]\n",
      "100%|██████████| 10/10 [00:00<00:00, 835.50it/s]\n",
      "100%|██████████| 10/10 [00:00<00:00, 10027.02it/s]\n",
      "100%|██████████| 10/10 [00:00<00:00, 835.62it/s]\n",
      "100%|██████████| 10/10 [00:00<00:00, 10019.84it/s]\n",
      "100%|██████████| 10/10 [00:00<00:00, 911.59it/s]\n",
      "100%|██████████| 10/10 [00:00<00:00, 5014.11it/s]\n"
     ]
    },
    {
     "name": "stdout",
     "output_type": "stream",
     "text": [
      "adi\n",
      "Walk iteration:\n"
     ]
    },
    {
     "name": "stderr",
     "output_type": "stream",
     "text": [
      "100%|██████████| 10/10 [00:00<00:00, 912.92it/s]\n"
     ]
    },
    {
     "name": "stdout",
     "output_type": "stream",
     "text": [
      "Walk iteration:\n"
     ]
    },
    {
     "name": "stderr",
     "output_type": "stream",
     "text": [
      "100%|██████████| 10/10 [00:00<00:00, 19572.11it/s]\n",
      "100%|██████████| 10/10 [00:00<00:00, 476.82it/s]\n",
      "100%|██████████| 10/10 [00:00<00:00, 10029.42it/s]\n",
      "100%|██████████| 10/10 [00:00<00:00, 477.47it/s]\n",
      "100%|██████████| 10/10 [00:00<00:00, 10034.22it/s]\n",
      "100%|██████████| 10/10 [00:00<00:00, 500.64it/s]\n",
      "100%|██████████| 10/10 [00:00<00:00, 5014.71it/s]\n"
     ]
    },
    {
     "name": "stdout",
     "output_type": "stream",
     "text": [
      "fdtd-2d\n",
      "Walk iteration:\n"
     ]
    },
    {
     "name": "stderr",
     "output_type": "stream",
     "text": [
      "100%|██████████| 10/10 [00:00<00:00, 1432.33it/s]\n"
     ]
    },
    {
     "name": "stdout",
     "output_type": "stream",
     "text": [
      "Walk iteration:\n"
     ]
    },
    {
     "name": "stderr",
     "output_type": "stream",
     "text": [
      "100%|██████████| 10/10 [00:00<?, ?it/s]\n",
      "100%|██████████| 10/10 [00:00<00:00, 771.31it/s]\n",
      "100%|██████████| 10/10 [00:00<00:00, 10029.42it/s]\n",
      "100%|██████████| 10/10 [00:00<00:00, 771.27it/s]\n",
      "100%|██████████| 10/10 [00:00<00:00, 5013.51it/s]\n",
      "100%|██████████| 10/10 [00:00<00:00, 771.30it/s]\n",
      "100%|██████████| 10/10 [00:00<00:00, 10029.42it/s]\n"
     ]
    },
    {
     "name": "stdout",
     "output_type": "stream",
     "text": [
      "heat-3d\n",
      "Walk iteration:\n"
     ]
    },
    {
     "name": "stderr",
     "output_type": "stream",
     "text": [
      "100%|██████████| 10/10 [00:00<00:00, 1114.11it/s]\n"
     ]
    },
    {
     "name": "stdout",
     "output_type": "stream",
     "text": [
      "Walk iteration:\n"
     ]
    },
    {
     "name": "stderr",
     "output_type": "stream",
     "text": [
      "100%|██████████| 10/10 [00:00<?, ?it/s]\n",
      "100%|██████████| 10/10 [00:00<00:00, 556.20it/s]\n",
      "100%|██████████| 10/10 [00:00<00:00, 5015.91it/s]\n",
      "100%|██████████| 10/10 [00:00<00:00, 526.76it/s]\n",
      "100%|██████████| 10/10 [00:00<00:00, 5027.33it/s]\n",
      "100%|██████████| 10/10 [00:00<00:00, 588.93it/s]\n",
      "100%|██████████| 10/10 [00:00<00:00, 10022.23it/s]\n"
     ]
    },
    {
     "name": "stdout",
     "output_type": "stream",
     "text": [
      "jacobi-1d\n",
      "Walk iteration:\n"
     ]
    },
    {
     "name": "stderr",
     "output_type": "stream",
     "text": [
      "100%|██████████| 10/10 [00:00<00:00, 3342.61it/s]\n"
     ]
    },
    {
     "name": "stdout",
     "output_type": "stream",
     "text": [
      "Walk iteration:\n"
     ]
    },
    {
     "name": "stderr",
     "output_type": "stream",
     "text": [
      "100%|██████████| 10/10 [00:00<00:00, 10027.02it/s]\n",
      "100%|██████████| 10/10 [00:00<00:00, 1671.04it/s]\n",
      "100%|██████████| 10/10 [00:00<00:00, 10031.82it/s]\n",
      "100%|██████████| 10/10 [00:00<00:00, 1671.44it/s]\n",
      "100%|██████████| 10/10 [00:00<00:00, 5011.71it/s]\n",
      "100%|██████████| 10/10 [00:00<00:00, 1671.17it/s]\n",
      "100%|██████████| 10/10 [00:00<00:00, 10027.02it/s]\n"
     ]
    },
    {
     "name": "stdout",
     "output_type": "stream",
     "text": [
      "jacobi-2d\n",
      "Walk iteration:\n"
     ]
    },
    {
     "name": "stderr",
     "output_type": "stream",
     "text": [
      "100%|██████████| 10/10 [00:00<00:00, 2005.50it/s]\n"
     ]
    },
    {
     "name": "stdout",
     "output_type": "stream",
     "text": [
      "Walk iteration:\n"
     ]
    },
    {
     "name": "stderr",
     "output_type": "stream",
     "text": [
      "100%|██████████| 10/10 [00:00<?, ?it/s]\n",
      "100%|██████████| 10/10 [00:00<00:00, 1002.70it/s]\n",
      "100%|██████████| 10/10 [00:00<00:00, 10019.84it/s]\n",
      "100%|██████████| 10/10 [00:00<00:00, 1002.61it/s]\n",
      "100%|██████████| 10/10 [00:00<00:00, 5012.91it/s]\n",
      "100%|██████████| 10/10 [00:00<00:00, 1002.68it/s]\n",
      "100%|██████████| 10/10 [00:00<00:00, 10031.82it/s]\n"
     ]
    },
    {
     "name": "stdout",
     "output_type": "stream",
     "text": [
      "seidel-2d\n",
      "Walk iteration:\n"
     ]
    },
    {
     "name": "stderr",
     "output_type": "stream",
     "text": [
      "100%|██████████| 10/10 [00:00<00:00, 2005.31it/s]\n"
     ]
    },
    {
     "name": "stdout",
     "output_type": "stream",
     "text": [
      "Walk iteration:\n"
     ]
    },
    {
     "name": "stderr",
     "output_type": "stream",
     "text": [
      "100%|██████████| 10/10 [00:00<00:00, 10015.05it/s]\n",
      "100%|██████████| 10/10 [00:00<00:00, 1253.42it/s]\n",
      "100%|██████████| 10/10 [00:00<00:00, 5014.11it/s]\n",
      "100%|██████████| 10/10 [00:00<00:00, 1253.45it/s]\n",
      "100%|██████████| 10/10 [00:00<00:00, 5014.71it/s]\n",
      "100%|██████████| 10/10 [00:00<00:00, 1253.30it/s]\n",
      "100%|██████████| 10/10 [00:00<00:00, 5014.11it/s]\n"
     ]
    }
   ],
   "source": [
    "ld.clean_embeddings()\n",
    "for k,v in polybench.items():\n",
    "    print(k)\n",
    "    # obtain graphs in graphviz format (plotting.py)\n",
    "    u = pl.unique_ast(polybench, k)\n",
    "    s = pl.summarize_ast(polybench, k, multiple=False)\n",
    "    # convert to easygraph format (convert.py)\n",
    "    Gu = co.convert_unique(u.body[2:])\n",
    "    Gs = co.convert_sum(s.body[2:])\n",
    "    # calculate graph embeddings (explore.py)\n",
    "    # save in CSV files (loading.py)\n",
    "    ld.append_file(k, 'DW_AST', ex.graphDW(Gu))\n",
    "    ld.append_file(k, 'DW_SUM', ex.graphDW(Gs))\n",
    "    ld.append_file(k, 'N2V_AST', ex.graphN2V(Gu))\n",
    "    ld.append_file(k, 'N2V_SUM', ex.graphN2V(Gs, w=True))\n",
    "    ld.append_file(k, 'N2V_AST_BFS', ex.graphN2V(Gu, pv=0.2))\n",
    "    ld.append_file(k, 'N2V_SUM_BFS', ex.graphN2V(Gs, pv=0.2, w=True))\n",
    "    ld.append_file(k, 'N2V_AST_DFS', ex.graphN2V(Gu, qv=0.2))\n",
    "    ld.append_file(k, 'N2V_SUM_DFS', ex.graphN2V(Gs, qv=0.2, w=True))"
   ]
  },
  {
   "cell_type": "code",
   "execution_count": null,
   "id": "05d36e41-84f5-4e41-9b82-4a9c3956d7f3",
   "metadata": {},
   "outputs": [],
   "source": []
  }
 ],
 "metadata": {
  "kernelspec": {
   "display_name": "Python 3 (ipykernel)",
   "language": "python",
   "name": "python3"
  },
  "language_info": {
   "codemirror_mode": {
    "name": "ipython",
    "version": 3
   },
   "file_extension": ".py",
   "mimetype": "text/x-python",
   "name": "python",
   "nbconvert_exporter": "python",
   "pygments_lexer": "ipython3",
   "version": "3.9.15"
  }
 },
 "nbformat": 4,
 "nbformat_minor": 5
}
