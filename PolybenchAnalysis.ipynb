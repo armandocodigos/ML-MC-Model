{
 "cells": [
  {
   "cell_type": "code",
   "execution_count": 1,
   "id": "7c948d9e-6748-4622-8ee8-8055f01f73fd",
   "metadata": {},
   "outputs": [],
   "source": [
    "import os\n",
    "def load_polybench(folder, subfolders):\n",
    "    polybench = {}\n",
    "    for each in subfolders:\n",
    "        for subdir, dirs, files in os.walk(folder + os.sep + each):\n",
    "            for file in files:\n",
    "                if (file.endswith(\".c\") or file.endswith(\".h\")):\n",
    "                    if (file[:-2] not in polybench):\n",
    "                        polybench[file[:-2]] = {}\n",
    "                    polybench[file[:-2]][file[-1]] = subdir + os.sep + file\n",
    "    return polybench\n",
    "def show_name(filename):\n",
    "    return filename.split(os.sep)[-1]"
   ]
  },
  {
   "cell_type": "code",
   "execution_count": 2,
   "id": "33b3d35b-2dce-461b-9b97-b0695a42af48",
   "metadata": {},
   "outputs": [],
   "source": [
    "folder = 'polybench-c-4.2.1-beta'\n",
    "subfolders = ['datamining','linear-algebra','medley','stencils']\n",
    "polybench = load_polybench(folder, subfolders)"
   ]
  },
  {
   "cell_type": "code",
   "execution_count": 3,
   "id": "4ffc34da-9a70-4d27-bb61-4faadb29aeea",
   "metadata": {},
   "outputs": [
    {
     "name": "stdout",
     "output_type": "stream",
     "text": [
      "Program: correlation     [correlation.c, correlation.h]\n",
      "Program: covariance      [covariance.c, covariance.h]\n",
      "Program: gemm            [gemm.c, gemm.h]\n",
      "Program: gemver          [gemver.c, gemver.h]\n",
      "Program: gesummv         [gesummv.c, gesummv.h]\n",
      "Program: symm            [symm.c, symm.h]\n",
      "Program: syr2k           [syr2k.c, syr2k.h]\n",
      "Program: syrk            [syrk.c, syrk.h]\n",
      "Program: trmm            [trmm.c, trmm.h]\n",
      "Program: 2mm             [2mm.c, 2mm.h]\n",
      "Program: 3mm             [3mm.c, 3mm.h]\n",
      "Program: atax            [atax.c, atax.h]\n",
      "Program: bicg            [bicg.c, bicg.h]\n",
      "Program: doitgen         [doitgen.c, doitgen.h]\n",
      "Program: mvt             [mvt.c, mvt.h]\n",
      "Program: cholesky        [cholesky.c, cholesky.h]\n",
      "Program: durbin          [durbin.c, durbin.h]\n",
      "Program: gramschmidt     [gramschmidt.c, gramschmidt.h]\n",
      "Program: lu              [lu.c, lu.h]\n",
      "Program: ludcmp          [ludcmp.c, ludcmp.h]\n",
      "Program: trisolv         [trisolv.c, trisolv.h]\n",
      "Program: deriche         [deriche.c, deriche.h]\n",
      "Program: floyd-warshall  [floyd-warshall.c, floyd-warshall.h]\n",
      "Program: nussinov        [nussinov.c, nussinov.h]\n",
      "Program: adi             [adi.c, adi.h]\n",
      "Program: fdtd-2d         [fdtd-2d.c, fdtd-2d.h]\n",
      "Program: heat-3d         [heat-3d.c, heat-3d.h]\n",
      "Program: jacobi-1d       [jacobi-1d.c, jacobi-1d.h]\n",
      "Program: jacobi-2d       [jacobi-2d.c, jacobi-2d.h]\n",
      "Program: seidel-2d       [seidel-2d.c, seidel-2d.h]\n"
     ]
    }
   ],
   "source": [
    "for k,v in polybench.items():\n",
    "    print(\"Program: {:<15} [{}, {}]\".format(k, show_name(v[\"c\"]), show_name(v[\"h\"])))"
   ]
  },
  {
   "cell_type": "code",
   "execution_count": 4,
   "id": "2b4ef418-6f1e-4382-933d-8e0ca07cd8e0",
   "metadata": {},
   "outputs": [],
   "source": [
    "def analyze(filename, features):\n",
    "    with open(filename, encoding='utf-8') as txt_file:\n",
    "        raw_text = txt_file.read()\n",
    "        while('*/' in raw_text):\n",
    "            comment_start = raw_text.index('/*')\n",
    "            comment_end = raw_text.index('*/')\n",
    "            raw_text = raw_text[:comment_start] + raw_text[comment_end+2:]\n",
    "        rows = [x.strip() for x in raw_text.split('\\n')]\n",
    "        rows = list(filter(lambda x: \"#\" not in x, rows))\n",
    "        rows = list(filter(lambda x: len(x) > 0, rows))\n",
    "        text = ' '.join(rows)\n",
    "    return [text.count(x) for x in features]\n",
    "def obtain_features(polybench, features):\n",
    "    for k,v in polybench.items():\n",
    "        print('\\nProgram: {:<15} Features: '.format(k), end='')\n",
    "        results = [sum(x) for x in zip(analyze(v['c'], features), analyze(v['h'], features))]\n",
    "        for i,e in enumerate(features):\n",
    "            print('count({}) = {:<5} '.format(e,results[i]), end='')\n",
    "            v[e] = results[i]"
   ]
  },
  {
   "cell_type": "code",
   "execution_count": 5,
   "id": "7d5c8eff-5439-4007-b34f-ec0712a9e7c7",
   "metadata": {},
   "outputs": [
    {
     "name": "stdout",
     "output_type": "stream",
     "text": [
      "\n",
      "Program: correlation     Features: count(for) = 13    count(if) = 1     count(+) = 32    count(printf) = 2     count(==) = 1     count(-) = 6     \n",
      "Program: covariance      Features: count(for) = 11    count(if) = 1     count(+) = 25    count(printf) = 2     count(==) = 1     count(-) = 2     \n",
      "Program: gemm            Features: count(for) = 12    count(if) = 1     count(+) = 30    count(printf) = 2     count(==) = 1     count(-) = 0     \n",
      "Program: gemver          Features: count(for) = 10    count(if) = 1     count(+) = 30    count(printf) = 2     count(==) = 1     count(-) = 0     \n",
      "Program: gesummv         Features: count(for) = 5     count(if) = 1     count(+) = 15    count(printf) = 2     count(==) = 1     count(-) = 0     \n",
      "Program: symm            Features: count(for) = 10    count(if) = 1     count(+) = 30    count(printf) = 2     count(==) = 1     count(-) = 2     \n",
      "Program: syr2k           Features: count(for) = 10    count(if) = 1     count(+) = 26    count(printf) = 2     count(==) = 1     count(-) = 0     \n",
      "Program: syrk            Features: count(for) = 10    count(if) = 1     count(+) = 25    count(printf) = 2     count(==) = 1     count(-) = 0     \n",
      "Program: trmm            Features: count(for) = 8     count(if) = 1     count(+) = 21    count(printf) = 2     count(==) = 1     count(-) = 1     \n",
      "Program: 2mm             Features: count(for) = 16    count(if) = 1     count(+) = 40    count(printf) = 2     count(==) = 1     count(-) = 0     \n",
      "Program: 3mm             Features: count(for) = 19    count(if) = 1     count(+) = 48    count(printf) = 2     count(==) = 1     count(-) = 0     \n",
      "Program: atax            Features: count(for) = 8     count(if) = 1     count(+) = 20    count(printf) = 2     count(==) = 1     count(-) = 0     \n",
      "Program: bicg            Features: count(for) = 8     count(if) = 2     count(+) = 19    count(printf) = 4     count(==) = 2     count(-) = 0     \n",
      "Program: doitgen         Features: count(for) = 13    count(if) = 1     count(+) = 30    count(printf) = 2     count(==) = 1     count(-) = 0     \n",
      "Program: mvt             Features: count(for) = 8     count(if) = 2     count(+) = 21    count(printf) = 4     count(==) = 2     count(-) = 0     \n",
      "Program: cholesky        Features: count(for) = 16    count(if) = 1     count(+) = 36    count(printf) = 2     count(==) = 2     count(-) = 3     \n",
      "Program: durbin          Features: count(for) = 6     count(if) = 1     count(+) = 16    count(printf) = 2     count(==) = 1     count(-) = 9     \n",
      "Program: gramschmidt     Features: count(for) = 14    count(if) = 2     count(+) = 34    count(printf) = 4     count(==) = 2     count(-) = 1     \n",
      "Program: lu              Features: count(for) = 17    count(if) = 1     count(+) = 38    count(printf) = 2     count(==) = 1     count(-) = 3     \n",
      "Program: ludcmp          Features: count(for) = 21    count(if) = 1     count(+) = 46    count(printf) = 2     count(==) = 1     count(-) = 8     \n",
      "Program: trisolv         Features: count(for) = 5     count(if) = 1     count(+) = 12    count(printf) = 2     count(==) = 1     count(-) = 3     \n",
      "Program: deriche         Features: count(for) = 16    count(if) = 1     count(+) = 46    count(printf) = 2     count(==) = 1     count(-) = 20    \n",
      "Program: floyd-warshall  Features: count(for) = 7     count(if) = 2     count(+) = 21    count(printf) = 2     count(==) = 4     count(-) = 0     \n",
      "Program: nussinov        Features: count(for) = 8     count(if) = 5     count(+) = 27    count(printf) = 2     count(==) = 1     count(-) = 9     \n",
      "Program: adi             Features: count(for) = 11    count(if) = 1     count(+) = 36    count(printf) = 2     count(==) = 1     count(-) = 31    \n",
      "Program: fdtd-2d         Features: count(for) = 17    count(if) = 3     count(+) = 43    count(printf) = 6     count(==) = 3     count(-) = 11    \n",
      "Program: heat-3d         Features: count(for) = 13    count(if) = 1     count(+) = 48    count(printf) = 2     count(==) = 1     count(-) = 19    \n",
      "Program: jacobi-1d       Features: count(for) = 5     count(if) = 1     count(+) = 18    count(printf) = 2     count(==) = 1     count(-) = 4     \n",
      "Program: jacobi-2d       Features: count(for) = 9     count(if) = 1     count(+) = 35    count(printf) = 2     count(==) = 1     count(-) = 8     \n",
      "Program: seidel-2d       Features: count(for) = 7     count(if) = 1     count(+) = 31    count(printf) = 2     count(==) = 1     count(-) = 9     "
     ]
    }
   ],
   "source": [
    "features = ['for', 'if', '+', 'printf', '==', '-']\n",
    "obtain_features(polybench, features)"
   ]
  },
  {
   "cell_type": "code",
   "execution_count": 6,
   "id": "c93dee6e-61ce-478e-ac9e-22d621775caf",
   "metadata": {},
   "outputs": [],
   "source": [
    "import csv\n",
    "def save_features(polybench, features):\n",
    "    with open('features.csv', 'w', newline='') as f:\n",
    "        writer = csv.writer(f)\n",
    "        writer.writerow(['Program'] + features)\n",
    "        summary = []\n",
    "        for k,v in polybench.items():\n",
    "            summary.append([k] + [v[feature] for feature in features])\n",
    "        writer.writerows(summary)\n",
    "    print('features.csv successfully created!')"
   ]
  },
  {
   "cell_type": "code",
   "execution_count": 7,
   "id": "04e84149-f8f9-482b-9646-c70c9ca0c602",
   "metadata": {},
   "outputs": [
    {
     "name": "stdout",
     "output_type": "stream",
     "text": [
      "features.csv successfully created!\n"
     ]
    }
   ],
   "source": [
    "save_features(polybench, features)"
   ]
  },
  {
   "cell_type": "code",
   "execution_count": null,
   "id": "846de076-1e1a-4383-ab89-89a50e9119df",
   "metadata": {},
   "outputs": [],
   "source": []
  }
 ],
 "metadata": {
  "kernelspec": {
   "display_name": "Python 3 (ipykernel)",
   "language": "python",
   "name": "python3"
  },
  "language_info": {
   "codemirror_mode": {
    "name": "ipython",
    "version": 3
   },
   "file_extension": ".py",
   "mimetype": "text/x-python",
   "name": "python",
   "nbconvert_exporter": "python",
   "pygments_lexer": "ipython3",
   "version": "3.9.12"
  }
 },
 "nbformat": 4,
 "nbformat_minor": 5
}
